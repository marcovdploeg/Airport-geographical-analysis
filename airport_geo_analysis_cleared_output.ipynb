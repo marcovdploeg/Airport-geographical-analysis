{
 "cells": [
  {
   "cell_type": "markdown",
   "metadata": {},
   "source": [
    "### Airport placement analysis\n",
    "\n",
    "In this script we figure out where we should place a new airport in the Netherlands such that the most people benefit off of it, based on population.\n",
    "\n",
    "We also make some nice maps to visualize what is happening."
   ]
  },
  {
   "cell_type": "code",
   "execution_count": null,
   "metadata": {},
   "outputs": [],
   "source": [
    "import pandas as pd\n",
    "import geopandas as gpd\n",
    "import folium\n",
    "from folium import Choropleth, Marker, GeoJson\n",
    "import numpy as np\n",
    "import matplotlib.pyplot as plt\n",
    "import warnings\n",
    "warnings.filterwarnings('ignore')"
   ]
  },
  {
   "cell_type": "code",
   "execution_count": null,
   "metadata": {},
   "outputs": [],
   "source": [
    "data = pd.read_csv('../data/airport_data/airport_code.csv')\n",
    "data.head()"
   ]
  },
  {
   "cell_type": "code",
   "execution_count": null,
   "metadata": {},
   "outputs": [],
   "source": [
    "# Drop the unnecessary columns\n",
    "data.drop(['ident', 'elevation_ft', 'continent', 'iso_region', 'scheduled_service', 'gps_code', 'local_code'], axis=1, inplace=True)\n",
    "\n",
    "dutch_data = data[data['iso_country'] == 'NL']\n",
    "# Also select civilian airports, as based on inspecting https://nl.wikipedia.org/wiki/Lijst_van_vliegvelden_in_Nederland\n",
    "civ_ports = ['Amsterdam Airport Schiphol', 'Eindhoven Airport', 'Groningen Airport Eelde', \n",
    "             'Maastricht Aachen Airport', 'Rotterdam The Hague Airport', 'Lelystad Airport']\n",
    "dutch_data = dutch_data[dutch_data['name'].isin(civ_ports)]\n",
    "\n",
    "# Note Groningen Airport Eelde is not in the dataset, so we will add it manually\n",
    "groningen = pd.DataFrame([[2525, 'unknown_airport', 'Groningen Airport Eelde', 53.11970138549805, 6.579440116882324, 'NL', 'Groningen']], \n",
    "                         columns=dutch_data.columns)\n",
    "dutch_data = pd.concat([dutch_data, groningen])\n",
    "print(dutch_data.shape)\n",
    "dutch_data"
   ]
  },
  {
   "cell_type": "code",
   "execution_count": null,
   "metadata": {},
   "outputs": [],
   "source": [
    "borders = gpd.read_file('../data/airport_data/Grenzen_van_alle_Nederlandse_gemeenten_en_provincies.kml', driver='KML')\n",
    "borders.head(3)"
   ]
  },
  {
   "cell_type": "code",
   "execution_count": null,
   "metadata": {},
   "outputs": [],
   "source": [
    "dutch_data['geometry'] = gpd.points_from_xy(dutch_data['longitude_deg'], dutch_data['latitude_deg'])\n",
    "dutch_data = gpd.GeoDataFrame(dutch_data, geometry='geometry')\n",
    "dutch_data.crs = borders.crs\n",
    "dutch_data"
   ]
  },
  {
   "cell_type": "code",
   "execution_count": null,
   "metadata": {},
   "outputs": [],
   "source": [
    "ax = borders.plot(figsize=(10, 10), color='none')\n",
    "dutch_data.plot(ax=ax, color='red', markersize=10)\n",
    "ax.set_xlabel('Longitude')\n",
    "ax.set_ylabel('Latitude')\n",
    "plt.show()"
   ]
  },
  {
   "cell_type": "code",
   "execution_count": null,
   "metadata": {},
   "outputs": [],
   "source": [
    "# Read population data\n",
    "pop_data = pd.read_excel('../data/airport_data/voorlopige-bevolkings-gegevens-20250101.xlsx', skiprows=10, sheet_name='Tabel 1')\n",
    "pop_data.drop(['Gemeentecode', 'Unnamed: 2'], axis=1, inplace=True)\n",
    "pop_data.rename(columns={'Unnamed: 3': 'Inwoners'}, inplace=True)\n",
    "#pop_data.head()\n",
    "\n",
    "# Check if they are all in there\n",
    "print(pop_data['Gemeentenaam'].nunique())\n",
    "print(borders['NAAM'].nunique())\n",
    "\n",
    "# Check if the names are the same\n",
    "print(set(pop_data['Gemeentenaam']) - set(borders['NAAM'])) # how they appear in pop_data\n",
    "print(set(borders['NAAM']) - set(pop_data['Gemeentenaam']))"
   ]
  },
  {
   "cell_type": "code",
   "execution_count": null,
   "metadata": {},
   "outputs": [],
   "source": [
    "# I'm just going to manually fix the names\n",
    "pop_data_fix = pd.read_excel('../data/airport_data/voorlopige-bevolkings-gegevens-20250101-fixed.xlsx', skiprows=10, sheet_name='Tabel 1')\n",
    "pop_data_fix.drop(['Gemeentecode', 'Unnamed: 2'], axis=1, inplace=True)\n",
    "pop_data_fix.rename(columns={'Unnamed: 3': 'Inwoners'}, inplace=True)\n",
    "print(set(pop_data_fix['Gemeentenaam']) - set(borders['NAAM']))"
   ]
  },
  {
   "cell_type": "code",
   "execution_count": null,
   "metadata": {},
   "outputs": [],
   "source": [
    "# Add population data to border data\n",
    "borders_pop = borders.merge(pop_data_fix, left_on='NAAM', right_on='Gemeentenaam')\n",
    "print(borders_pop.shape)\n",
    "borders_pop = borders_pop[['NAAM', 'geometry', 'Inwoners']]\n",
    "borders_pop.head(3)"
   ]
  },
  {
   "cell_type": "code",
   "execution_count": null,
   "metadata": {},
   "outputs": [],
   "source": [
    "districts = borders_pop[['NAAM', 'geometry']].set_index('NAAM')\n",
    "plot_dict = borders_pop.set_index('NAAM')['Inwoners']\n",
    "plot_dict.head()"
   ]
  },
  {
   "cell_type": "code",
   "execution_count": null,
   "metadata": {},
   "outputs": [],
   "source": [
    "# Let's then define a radius within which a municipality is considered to be 'close' to an airport\n",
    "r = 30 # km\n",
    "# Set crs to meters, so EPSG 28992\n",
    "dutch_data.to_crs(epsg=28992, inplace=True)\n",
    "borders_pop.to_crs(epsg=28992, inplace=True)\n",
    "\n",
    "# Create a buffer around the airports\n",
    "r_km_buffer = dutch_data.geometry.buffer(r * 1000)\n",
    "\n",
    "# Make a choropleth map of population within municipalities, with the airports and their buffer overlaid\n",
    "m = folium.Map(location=[52.1326, 5.2913], zoom_start=8)\n",
    "for idx, row in dutch_data.iterrows():\n",
    "    Marker([row['latitude_deg'], row['longitude_deg']], popup=row['name']).add_to(m)\n",
    "\n",
    "# Add choropleth layer\n",
    "Choropleth(\n",
    "    geo_data=districts.__geo_interface__,\n",
    "    data=plot_dict,\n",
    "    key_on='feature.id',\n",
    "    fill_color='YlGnBu',\n",
    "    fill_opacity=0.7,\n",
    "    line_opacity=0.2,\n",
    "    legend_name='Population'\n",
    ").add_to(m)\n",
    "\n",
    "# Buffer\n",
    "GeoJson(r_km_buffer).add_to(m)\n",
    "\n",
    "m"
   ]
  },
  {
   "cell_type": "code",
   "execution_count": null,
   "metadata": {},
   "outputs": [],
   "source": [
    "# Put buffers together and say a municipality is close if more than 50% of its area is within the buffer\n",
    "union = r_km_buffer.geometry.unary_union\n",
    "intersections = borders_pop.geometry.intersection(union)\n",
    "intersection_areas = intersections.area\n",
    "total_areas = borders_pop.geometry.area\n",
    "percentage_coverage = intersection_areas / total_areas\n",
    "inside_borders_pop = borders_pop[percentage_coverage > 0.5]\n",
    "\n",
    "total_pop = borders_pop['Inwoners'].sum()\n",
    "inside_pop = inside_borders_pop['Inwoners'].sum()\n",
    "print(f'Fraction of population within {r} km of an airport: {inside_pop / total_pop:.2f}')"
   ]
  },
  {
   "cell_type": "code",
   "execution_count": null,
   "metadata": {},
   "outputs": [],
   "source": [
    "# Show on the map which municipalities are within the buffer\n",
    "m = folium.Map(location=[52.1326, 5.2913], zoom_start=8)\n",
    "for idx, row in dutch_data.iterrows():\n",
    "    Marker([row['latitude_deg'], row['longitude_deg']], popup=row['name']).add_to(m)\n",
    "\n",
    "Choropleth(\n",
    "    geo_data=districts.__geo_interface__,\n",
    "    data=plot_dict,\n",
    "    key_on='feature.id',\n",
    "    fill_color='YlGnBu',\n",
    "    fill_opacity=0.7,\n",
    "    line_opacity=0.2,\n",
    "    legend_name='Population'\n",
    ").add_to(m)\n",
    "\n",
    "# Buffer\n",
    "GeoJson(r_km_buffer).add_to(m)\n",
    "\n",
    "# Add the municipalities within the buffer\n",
    "centroids = inside_borders_pop.geometry.centroid.to_crs(epsg=4326)\n",
    "for idx, row in inside_borders_pop.iterrows():\n",
    "    Marker([centroids.loc[idx].y, centroids.loc[idx].x], popup=row['NAAM']).add_to(m)\n",
    "\n",
    "m"
   ]
  },
  {
   "cell_type": "code",
   "execution_count": null,
   "metadata": {},
   "outputs": [],
   "source": [
    "# Then we create a set of coordinates where a new airport could be placed\n",
    "# Based on cities in corners of the country, we have:\n",
    "# Vaals (50.77324555915101, 6.01131402595673)\n",
    "# Cadzand (51.368992743139195, 3.4074614802218464)\n",
    "# Delfzijl (53.330972145619654, 6.924773483108634)\n",
    "# Den Helder (52.956204773392216, 4.760745569011207)\n",
    "# So longitude should be between 3.4 and 7.0, latitude between 50.7 and 53.5\n",
    "longitude = np.linspace(3.4, 7.0, 16)\n",
    "latitude = np.linspace(50.7, 53.5, 16)\n",
    "xx, yy = np.meshgrid(longitude, latitude)\n",
    "coords = np.vstack([xx.ravel(), yy.ravel()]).T\n",
    "coords = gpd.GeoDataFrame(coords, columns=['x', 'y'], geometry=gpd.points_from_xy(coords[:, 0], coords[:, 1]))\n",
    "coords.crs = 'EPSG:4326'\n",
    "coords = coords.to_crs(epsg=28992)  # get geometry in meters\n",
    "coords.head()"
   ]
  },
  {
   "cell_type": "code",
   "execution_count": null,
   "metadata": {},
   "outputs": [],
   "source": [
    "# Plot potential locations on map\n",
    "m = folium.Map(location=[52.1326, 5.2913], zoom_start=8)\n",
    "for idx, row in coords.iterrows():\n",
    "    Marker([row['y'], row['x']], popup=(row['x'], row['y'])).add_to(m)\n",
    "\n",
    "m"
   ]
  },
  {
   "cell_type": "code",
   "execution_count": null,
   "metadata": {},
   "outputs": [],
   "source": [
    "# A decent amount of them are outside of the Netherlands, but we'll just ignore those\n",
    "# Then for each point, pretend there is an airport there and calculate the population within the buffer\n",
    "def calc_pop_fraction(point, r):\n",
    "    new_row = new_row = gpd.GeoDataFrame([{'name': 'new_airport', 'geometry': point}], crs=dutch_data.crs)\n",
    "    dutch_data_expanded = pd.concat([dutch_data, new_row])\n",
    "\n",
    "    r_km_buffer = dutch_data_expanded.geometry.buffer(r * 1000)\n",
    "    union = r_km_buffer.unary_union\n",
    "    intersections = borders_pop.geometry.intersection(union)\n",
    "    intersection_areas = intersections.area\n",
    "    total_areas = borders_pop.geometry.area\n",
    "    percentage_coverage = intersection_areas / total_areas\n",
    "    inside_borders_pop = borders_pop[percentage_coverage > 0.5]\n",
    "\n",
    "    fraction = inside_borders_pop['Inwoners'].sum() / total_pop\n",
    "    return fraction"
   ]
  },
  {
   "cell_type": "code",
   "execution_count": null,
   "metadata": {},
   "outputs": [],
   "source": [
    "# Run for all points\n",
    "best_coords = None\n",
    "best_frac = 0\n",
    "for point in coords.geometry:\n",
    "    fraction = calc_pop_fraction(point, r)\n",
    "    if fraction > best_frac:\n",
    "        best_frac = fraction\n",
    "        best_coords = point\n",
    "print(f'Best location: {best_coords.x}, {best_coords.y}')\n",
    "print(f'Fraction of population within {r} km of an airport: {best_frac:.2f}')"
   ]
  },
  {
   "cell_type": "code",
   "execution_count": null,
   "metadata": {},
   "outputs": [],
   "source": [
    "# Plot with the new airport\n",
    "m = folium.Map(location=[52.1326, 5.2913], zoom_start=8)\n",
    "for idx, row in dutch_data.iterrows():\n",
    "    Marker([row['latitude_deg'], row['longitude_deg']], popup=row['name']).add_to(m)\n",
    "\n",
    "# Add new airport, find x, y by finding best_point in coords\n",
    "best_x = coords[coords['geometry'] == best_coords]['x'].iloc[0]\n",
    "best_y = coords[coords['geometry'] == best_coords]['y'].iloc[0]\n",
    "Marker([best_y, best_x], popup='New Airport').add_to(m)\n",
    "\n",
    "# Add choropleth layer\n",
    "Choropleth(\n",
    "    geo_data=districts.__geo_interface__,\n",
    "    data=plot_dict,\n",
    "    key_on='feature.id',\n",
    "    fill_color='YlGnBu',\n",
    "    fill_opacity=0.7,\n",
    "    line_opacity=0.2,\n",
    "    legend_name='Population'\n",
    ").add_to(m)\n",
    "\n",
    "# Buffer, first add new point to dutch_data\n",
    "new_row = gpd.GeoDataFrame([{'name': 'new_airport', 'geometry': best_coords}], crs=dutch_data.crs)\n",
    "dutch_data_expanded = pd.concat([dutch_data, new_row])\n",
    "r_km_buffer = dutch_data_expanded.geometry.buffer(r * 1000)\n",
    "GeoJson(r_km_buffer).add_to(m)\n",
    "\n",
    "m.save('30km_airport_map.html')\n",
    "m"
   ]
  },
  {
   "cell_type": "markdown",
   "metadata": {},
   "source": [
    "So for a radius of 30 km, the new airport would have to be southeast of Utrecht (and including Utrecht itself), which seems reasonable given the large population around there that is just out of range of other airports."
   ]
  },
  {
   "cell_type": "code",
   "execution_count": null,
   "metadata": {},
   "outputs": [],
   "source": [
    "# Finally write a function that performs all steps for any given radius, and makes a map with the new airport\n",
    "def best_airport_place(r):\n",
    "    best_coords = None\n",
    "    best_frac = 0\n",
    "    for point in coords.geometry:\n",
    "        fraction = calc_pop_fraction(point, r)\n",
    "        if fraction > best_frac:\n",
    "            best_frac = fraction\n",
    "            best_coords = point\n",
    "    print(f'Best location: {best_coords.x}, {best_coords.y}')\n",
    "    print(f'Fraction of population within {r} km of an airport: {best_frac:.2f}')\n",
    "    return best_coords\n",
    "\n",
    "def plot_airport_placement(r, best_coords):\n",
    "    m = folium.Map(location=[52.1326, 5.2913], zoom_start=8)\n",
    "    for idx, row in dutch_data.iterrows():\n",
    "        Marker([row['latitude_deg'], row['longitude_deg']], popup=row['name']).add_to(m)\n",
    "\n",
    "    # Add new airport, find x, y by finding best_point in coords\n",
    "    best_x = coords[coords['geometry'] == best_coords]['x'].iloc[0]\n",
    "    best_y = coords[coords['geometry'] == best_coords]['y'].iloc[0]\n",
    "    Marker([best_y, best_x], popup='New Airport').add_to(m)\n",
    "\n",
    "    # Add choropleth layer\n",
    "    Choropleth(\n",
    "        geo_data=districts.__geo_interface__,\n",
    "        data=plot_dict,\n",
    "        key_on='feature.id',\n",
    "        fill_color='YlGnBu',\n",
    "        fill_opacity=0.7,\n",
    "        line_opacity=0.2,\n",
    "        legend_name='Population'\n",
    "    ).add_to(m)\n",
    "\n",
    "    # Buffer, first add new point to dutch_data\n",
    "    new_row = gpd.GeoDataFrame([{'name': 'new_airport', 'geometry': best_coords}], crs=dutch_data.crs)\n",
    "    dutch_data_expanded = pd.concat([dutch_data, new_row])\n",
    "    r_km_buffer = dutch_data_expanded.geometry.buffer(r * 1000)\n",
    "    GeoJson(r_km_buffer).add_to(m)\n",
    "\n",
    "    return m"
   ]
  },
  {
   "cell_type": "code",
   "execution_count": null,
   "metadata": {},
   "outputs": [],
   "source": [
    "best_coords_10 = best_airport_place(10)\n",
    "m = plot_airport_placement(10, best_coords_10)\n",
    "m.save('10km_airport_map.html')\n",
    "m"
   ]
  },
  {
   "cell_type": "markdown",
   "metadata": {},
   "source": [
    "Given that Schiphol does not seem to cover Amsterdam sufficiently with such a small radius, it makes sense for a new airport to be placed so that Amsterdam is covered now."
   ]
  },
  {
   "cell_type": "code",
   "execution_count": null,
   "metadata": {},
   "outputs": [],
   "source": [
    "best_coords_50 = best_airport_place(50)\n",
    "m = plot_airport_placement(50, best_coords_50)\n",
    "m.save('50km_airport_map.html')\n",
    "m"
   ]
  },
  {
   "cell_type": "markdown",
   "metadata": {},
   "source": [
    "With such a large radius we see the final larger cities (Arnhem, Enschede, Nijmegen) and as many areas in the Netherlands as possible are covered by the new airport, as we wanted. All cities that stand out on this colourmap are serviced at this radius with the new airport."
   ]
  }
 ],
 "metadata": {
  "kernelspec": {
   "display_name": "my_env_1",
   "language": "python",
   "name": "python3"
  },
  "language_info": {
   "codemirror_mode": {
    "name": "ipython",
    "version": 3
   },
   "file_extension": ".py",
   "mimetype": "text/x-python",
   "name": "python",
   "nbconvert_exporter": "python",
   "pygments_lexer": "ipython3",
   "version": "3.12.7"
  }
 },
 "nbformat": 4,
 "nbformat_minor": 2
}
